{
 "cells": [
  {
   "cell_type": "code",
   "execution_count": 1,
   "id": "9b82fcfa-ac21-48b2-a605-1caef3887d3d",
   "metadata": {},
   "outputs": [
    {
     "name": "stdout",
     "output_type": "stream",
     "text": [
      "=== Personal Information System ===\n"
     ]
    },
    {
     "name": "stdin",
     "output_type": "stream",
     "text": [
      "First name:  Sarah\n",
      "Last name:  Deng\n",
      "Age:  25\n",
      "Favorite hobby:  music\n"
     ]
    },
    {
     "name": "stdout",
     "output_type": "stream",
     "text": [
      "=== Here's your information! ===\n",
      "Full name: Sarah Deng\n",
      "Name length: 9 characters\n",
      "In 5 years you'll be: 30\n",
      "In 10 years you'll be: 35\n",
      "In 20 years you'll be: 45\n",
      "SARAH DENG - that looks impressive in all caps!\n",
      "sarah deng - and peaceful in lowercase.\n",
      "Music is a wonderful hobby!\n",
      "Keep enjoying music, Sarah!\n"
     ]
    }
   ],
   "source": [
    "print(\"=== Personal Information System ===\")\n",
    "first_name = input(\"First name: \")\n",
    "last_name = input(\"Last name: \")\n",
    "age_str = input(\"Age: \")\n",
    "hobby = input(\"Favorite hobby: \")\n",
    "# Convert age to integer\n",
    "age = int(age_str)\n",
    "\n",
    "# Calculate future ages\n",
    "age_in_5 = age + 5\n",
    "age_in_10 = age + 10\n",
    "age_in_20 = age + 20\n",
    "\n",
    "# Create full name with proper formatting\n",
    "full_name = first_name + \" \" + last_name\n",
    "full_name_title = full_name.title()\n",
    "full_name_upper = full_name.upper()\n",
    "full_name_lower = full_name.lower()\n",
    "\n",
    "# Calculate name length without spaces\n",
    "name_length = len(first_name + last_name)\n",
    "# Display user information\n",
    "print(\"=== Here's your information! ===\")\n",
    "print(f\"Full name: {full_name_title}\")\n",
    "print(f\"Name length: {name_length} characters\")\n",
    "print(f\"In 5 years you'll be: {age_in_5}\")\n",
    "print(f\"In 10 years you'll be: {age_in_10}\")\n",
    "print(f\"In 20 years you'll be: {age_in_20}\")\n",
    "print(f\"{full_name_upper} - that looks impressive in all caps!\")\n",
    "print(f\"{full_name_lower} - and peaceful in lowercase.\")\n",
    "print(f\"{hobby.capitalize()} is a wonderful hobby!\")\n",
    "print(f\"Keep enjoying {hobby}, {first_name.title()}!\")\n"
   ]
  },
  {
   "cell_type": "code",
   "execution_count": null,
   "id": "5c8f9a15-48fd-4dbc-8b43-b41b995e5d4e",
   "metadata": {},
   "outputs": [],
   "source": []
  }
 ],
 "metadata": {
  "kernelspec": {
   "display_name": "Python 3 (ipykernel)",
   "language": "python",
   "name": "python3"
  },
  "language_info": {
   "codemirror_mode": {
    "name": "ipython",
    "version": 3
   },
   "file_extension": ".py",
   "mimetype": "text/x-python",
   "name": "python",
   "nbconvert_exporter": "python",
   "pygments_lexer": "ipython3",
   "version": "3.13.5"
  }
 },
 "nbformat": 4,
 "nbformat_minor": 5
}
